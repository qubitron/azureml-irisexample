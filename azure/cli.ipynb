{
 "cells": [
  {
   "cell_type": "code",
   "execution_count": 4,
   "metadata": {},
   "outputs": [
    {
     "name": "stdout",
     "output_type": "stream",
     "text": [
      "\u001b[93mParameter persistence is turned on. Its information is saved in working directory /home/qubitron/dev/azureml-irisexample. You can run `az config param-persist off` to turn it off.\u001b[0m\n",
      "\u001b[93mCommand argument values from persistent parameters: --resource-group: machinelearning, --workspace-name: machinelearning\u001b[0m\n",
      "\u001b[36mCommand group 'ml model' is in preview and under development. Reference and support levels: https://aka.ms/CLI_refstatus\u001b[0m\n",
      "Creating or updating model\n",
      "{\n",
      "  \"creation_context\": {\n",
      "    \"created_at\": \"2021-11-14T02:33:56.119258+00:00\",\n",
      "    \"created_by\": \"Dan Taylor (VS)\",\n",
      "    \"created_by_type\": \"User\",\n",
      "    \"last_modified_at\": \"2021-11-14T02:33:56.119258+00:00\",\n",
      "    \"last_modified_by\": \"Dan Taylor (VS)\",\n",
      "    \"last_modified_by_type\": \"User\"\n",
      "  },\n",
      "  \"description\": \"Model created from local MLflow model directory.\",\n",
      "  \"flavors\": {},\n",
      "  \"id\": \"azureml:/subscriptions/597966d1-829f-417e-9950-8189061ec09c/resourceGroups/machinelearning/providers/Microsoft.MachineLearningServices/workspaces/machinelearning/models/local-mlflow-example/versions/2\",\n",
      "  \"model_format\": \"mlflow\",\n",
      "  \"model_uri\": \"azureml://subscriptions/597966d1-829f-417e-9950-8189061ec09c/resourceGroups/machinelearning/workspaces/machinelearning/datastores/workspaceblobstore/paths/LocalUpload/aac18be1025657595abb922564841d0e/model\",\n",
      "  \"name\": \"local-mlflow-example\",\n",
      "  \"properties\": {},\n",
      "  \"resourceGroup\": \"machinelearning\",\n",
      "  \"tags\": {},\n",
      "  \"version\": \"2\"\n",
      "}\n",
      "\u001b[0m"
     ]
    }
   ],
   "source": [
    "# register model\n",
    "!az ml model create --file cli/registermodel.yml"
   ]
  },
  {
   "cell_type": "code",
   "execution_count": 5,
   "metadata": {},
   "outputs": [
    {
     "name": "stdout",
     "output_type": "stream",
     "text": [
      "--2021-11-13 18:35:31--  https://azuremlexamples.blob.core.windows.net/datasets/iris.csv\n",
      "Resolving azuremlexamples.blob.core.windows.net (azuremlexamples.blob.core.windows.net)... 20.60.128.132\n",
      "Connecting to azuremlexamples.blob.core.windows.net (azuremlexamples.blob.core.windows.net)|20.60.128.132|:443... connected.\n",
      "HTTP request sent, awaiting response... 200 OK\n",
      "Length: 4466 (4.4K) [text/csv]\n",
      "Saving to: ‘iris.csv’\n",
      "\n",
      "iris.csv            100%[===================>]   4.36K  --.-KB/s    in 0s      \n",
      "\n",
      "2021-11-13 18:35:32 (271 MB/s) - ‘iris.csv’ saved [4466/4466]\n",
      "\n",
      "\u001b[93mParameter persistence is turned on. Its information is saved in working directory /home/qubitron/dev/azureml-irisexample. You can run `az config param-persist off` to turn it off.\u001b[0m\n",
      "\u001b[93mCommand argument values from persistent parameters: --resource-group: machinelearning, --workspace-name: machinelearning\u001b[0m\n",
      "\u001b[36mCommand group 'ml model' is in preview and under development. Reference and support levels: https://aka.ms/CLI_refstatus\u001b[0m\n",
      "Creating or updating model\n",
      "{\n",
      "  \"creation_context\": {\n",
      "    \"created_at\": \"2021-11-14T02:35:38.359766+00:00\",\n",
      "    \"created_by\": \"Dan Taylor (VS)\",\n",
      "    \"created_by_type\": \"User\",\n",
      "    \"last_modified_at\": \"2021-11-14T02:35:38.359766+00:00\",\n",
      "    \"last_modified_by\": \"Dan Taylor (VS)\",\n",
      "    \"last_modified_by_type\": \"User\"\n",
      "  },\n",
      "  \"description\": \"Dataset created from local iris.csv file.\",\n",
      "  \"flavors\": {},\n",
      "  \"id\": \"azureml:/subscriptions/597966d1-829f-417e-9950-8189061ec09c/resourceGroups/machinelearning/providers/Microsoft.MachineLearningServices/workspaces/machinelearning/models/iris-local-cli/versions/1\",\n",
      "  \"model_format\": \"custom\",\n",
      "  \"model_uri\": \"azureml://subscriptions/597966d1-829f-417e-9950-8189061ec09c/resourceGroups/machinelearning/workspaces/machinelearning/datastores/workspaceblobstore/paths/LocalUpload/d47f2da853d19bba5c97a5ca87213656/iris.csv\",\n",
      "  \"name\": \"iris-local-cli\",\n",
      "  \"properties\": {},\n",
      "  \"resourceGroup\": \"machinelearning\",\n",
      "  \"tags\": {},\n",
      "  \"version\": \"1\"\n",
      "}\n",
      "\u001b[0m"
     ]
    }
   ],
   "source": [
    "# create data set from local file\n",
    "!wget -O iris.csv https://azuremlexamples.blob.core.windows.net/datasets/iris.csv\n",
    "!az ml model create --file cli/dataset-local.yml"
   ]
  },
  {
   "cell_type": "code",
   "execution_count": 7,
   "metadata": {},
   "outputs": [
    {
     "name": "stdout",
     "output_type": "stream",
     "text": [
      "\u001b[93mParameter persistence is turned on. Its information is saved in working directory /home/qubitron/dev/azureml-irisexample. You can run `az config param-persist off` to turn it off.\u001b[0m\n",
      "\u001b[93mCommand argument values from persistent parameters: --resource-group: machinelearning, --workspace-name: machinelearning\u001b[0m\n",
      "\u001b[36mCommand group 'ml dataset' is in preview and under development. Reference and support levels: https://aka.ms/CLI_refstatus\u001b[0m\n",
      "Creating or updating dataset\n",
      "{\n",
      "  \"creation_context\": {\n",
      "    \"created_at\": \"2021-11-14T02:36:11.651517+00:00\",\n",
      "    \"created_by\": \"Dan Taylor (VS)\",\n",
      "    \"created_by_type\": \"User\",\n",
      "    \"last_modified_at\": \"2021-11-14T02:36:11.651517+00:00\",\n",
      "    \"last_modified_by\": \"Dan Taylor (VS)\",\n",
      "    \"last_modified_by_type\": \"User\"\n",
      "  },\n",
      "  \"description\": \"Dataset created from a file in cloud using https URL.\",\n",
      "  \"id\": \"azureml:/subscriptions/597966d1-829f-417e-9950-8189061ec09c/resourceGroups/machinelearning/providers/Microsoft.MachineLearningServices/workspaces/machinelearning/datasets/iris-file-https-example/versions/2\",\n",
      "  \"name\": \"iris-file-https-example\",\n",
      "  \"paths\": [\n",
      "    {\n",
      "      \"file\": \"https://azuremlexamples.blob.core.windows.net/datasets/iris.csv\"\n",
      "    }\n",
      "  ],\n",
      "  \"resourceGroup\": \"machinelearning\",\n",
      "  \"tags\": {},\n",
      "  \"version\": \"2\"\n",
      "}\n",
      "\u001b[0m"
     ]
    }
   ],
   "source": [
    "# create data set from cloud storage\n",
    "!az ml dataset create --file cli/dataset-cloud.yml"
   ]
  },
  {
   "cell_type": "code",
   "execution_count": 8,
   "metadata": {},
   "outputs": [
    {
     "name": "stdout",
     "output_type": "stream",
     "text": [
      "\u001b[93mParameter persistence is turned on. Its information is saved in working directory /home/qubitron/dev/azureml-irisexample. You can run `az config param-persist off` to turn it off.\u001b[0m\n",
      "\u001b[93mCommand argument values from persistent parameters: --resource-group: machinelearning, --workspace-name: machinelearning\u001b[0m\n",
      "\u001b[36mCommand group 'ml job' is in preview and under development. Reference and support levels: https://aka.ms/CLI_refstatus\u001b[0m\n",
      "Uploading src:   0%|                                 | 0.00/223k [00:01<?, ?B/s]\n",
      "{\n",
      "  \"code\": \"azureml:52d1b9b4-8f42-4528-b725-ce537612a1ce:1\",\n",
      "  \"command\": \"python main.py  --iris-csv ${{inputs.iris_csv}}\",\n",
      "  \"compute\": \"azureml:dantaylo2\",\n",
      "  \"creation_context\": {\n",
      "    \"created_at\": \"2021-11-14T02:38:48.571420+00:00\",\n",
      "    \"created_by\": \"Dan Taylor (VS)\",\n",
      "    \"created_by_type\": \"User\"\n",
      "  },\n",
      "  \"description\": \"Train a LightGBM model on the Iris dataset.\",\n",
      "  \"display_name\": \"lightgbm-iris-example\",\n",
      "  \"environment\": \"azureml:AzureML-lightgbm-3.2-ubuntu18.04-py37-cpu:11\",\n",
      "  \"environment_variables\": {},\n",
      "  \"experiment_name\": \"lightgbm-iris-example\",\n",
      "  \"id\": \"azureml:/subscriptions/597966d1-829f-417e-9950-8189061ec09c/resourceGroups/machinelearning/providers/Microsoft.MachineLearningServices/workspaces/machinelearning/jobs/006b3ff0-4598-4c40-90d4-ae65b0475bd5\",\n",
      "  \"inputs\": {\n",
      "    \"iris_csv\": {\n",
      "      \"file\": \"https://azuremlexamples.blob.core.windows.net/datasets/iris.csv\",\n",
      "      \"mode\": \"ro_mount\"\n",
      "    }\n",
      "  },\n",
      "  \"name\": \"006b3ff0-4598-4c40-90d4-ae65b0475bd5\",\n",
      "  \"outputs\": {\n",
      "    \"default\": {\n",
      "      \"folder\": \"azureml://datastores/workspaceartifactstore/ExperimentRun/dcid.006b3ff0-4598-4c40-90d4-ae65b0475bd5\",\n",
      "      \"mode\": \"rw_mount\"\n",
      "    }\n",
      "  },\n",
      "  \"parameters\": {},\n",
      "  \"properties\": {\n",
      "    \"ContentSnapshotId\": \"e63e05d7-f67e-4167-8f3d-6a5faa709e22\",\n",
      "    \"_azureml.ComputeTargetType\": \"amlcompute\",\n",
      "    \"azureml.git.dirty\": \"True\",\n",
      "    \"mlflow.source.git.branch\": \"main\",\n",
      "    \"mlflow.source.git.commit\": \"e2d8ff4c0b6466b367528c93858af7bbdccae2b0\",\n",
      "    \"mlflow.source.git.repoURL\": \"https://github.com/qubitron/azureml-irisexample\"\n",
      "  },\n",
      "  \"resourceGroup\": \"machinelearning\",\n",
      "  \"resources\": {\n",
      "    \"properties\": {}\n",
      "  },\n",
      "  \"services\": {\n",
      "    \"Studio\": {\n",
      "      \"endpoint\": \"https://ml.azure.com/runs/006b3ff0-4598-4c40-90d4-ae65b0475bd5?wsid=/subscriptions/597966d1-829f-417e-9950-8189061ec09c/resourcegroups/machinelearning/workspaces/machinelearning&tid=72f988bf-86f1-41af-91ab-2d7cd011db47\",\n",
      "      \"job_service_type\": \"Studio\"\n",
      "    },\n",
      "    \"Tracking\": {\n",
      "      \"endpoint\": \"azureml://westus.api.azureml.ms/mlflow/v1.0/subscriptions/597966d1-829f-417e-9950-8189061ec09c/resourceGroups/machinelearning/providers/Microsoft.MachineLearningServices/workspaces/machinelearning?\",\n",
      "      \"job_service_type\": \"Tracking\"\n",
      "    }\n",
      "  },\n",
      "  \"status\": \"Starting\",\n",
      "  \"tags\": {},\n",
      "  \"type\": \"command\"\n",
      "}\n",
      "\u001b[0m"
     ]
    }
   ],
   "source": [
    "# run a single job\n",
    "!az ml job create --file cli/job.yml"
   ]
  },
  {
   "cell_type": "code",
   "execution_count": 4,
   "metadata": {},
   "outputs": [
    {
     "name": "stdout",
     "output_type": "stream",
     "text": [
      "\u001b[93mParameter persistence is turned on. Its information is saved in working directory /home/qubitron/dev/azureml-irisexample. You can run `az config param-persist off` to turn it off.\u001b[0m\n",
      "\u001b[93mCommand argument values from persistent parameters: --resource-group: machinelearning, --workspace-name: machinelearning\u001b[0m\n",
      "\u001b[36mCommand group 'ml job' is in preview and under development. Reference and support levels: https://aka.ms/CLI_refstatus\u001b[0m\n",
      "Uploading src:   0%|                                 | 0.00/292k [00:01<?, ?B/s]\n",
      "{\n",
      "  \"compute\": \"azureml:dantaylo2\",\n",
      "  \"creation_context\": {\n",
      "    \"created_at\": \"2021-11-15T04:46:11.340304+00:00\",\n",
      "    \"created_by\": \"Dan Taylor (VS)\",\n",
      "    \"created_by_type\": \"User\"\n",
      "  },\n",
      "  \"description\": \"Run a hyperparameter sweep job for LightGBM on Iris dataset.\",\n",
      "  \"display_name\": \"lightgbm-iris-sweep-example\",\n",
      "  \"experiment_name\": \"lightgbm-iris-sweep-example\",\n",
      "  \"id\": \"azureml:/subscriptions/597966d1-829f-417e-9950-8189061ec09c/resourceGroups/machinelearning/providers/Microsoft.MachineLearningServices/workspaces/machinelearning/jobs/5dcacb53-8b68-4ace-900c-5527b9481348\",\n",
      "  \"inputs\": {\n",
      "    \"iris_csv\": {\n",
      "      \"file\": \"https://azuremlexamples.blob.core.windows.net/datasets/iris.csv\",\n",
      "      \"mode\": \"ro_mount\"\n",
      "    }\n",
      "  },\n",
      "  \"limits\": {\n",
      "    \"max_concurrent_trials\": 10,\n",
      "    \"max_total_trials\": 20,\n",
      "    \"timeout\": 7200\n",
      "  },\n",
      "  \"name\": \"5dcacb53-8b68-4ace-900c-5527b9481348\",\n",
      "  \"objective\": {\n",
      "    \"goal\": \"minimize\",\n",
      "    \"primary_metric\": \"test-multi_logloss\"\n",
      "  },\n",
      "  \"outputs\": {\n",
      "    \"default\": {\n",
      "      \"folder\": \"azureml://datastores/workspaceartifactstore/ExperimentRun/dcid.5dcacb53-8b68-4ace-900c-5527b9481348\",\n",
      "      \"mode\": \"rw_mount\"\n",
      "    }\n",
      "  },\n",
      "  \"properties\": {\n",
      "    \"ContentSnapshotId\": \"229b55e2-70a7-4320-b00e-240154ff1131\",\n",
      "    \"azureml.git.dirty\": \"True\",\n",
      "    \"azureml.runsource\": \"hyperdrive\",\n",
      "    \"mlflow.source.git.branch\": \"main\",\n",
      "    \"mlflow.source.git.commit\": \"d16d61222147b4732c8e3c8f5e5b135ce73df364\",\n",
      "    \"mlflow.source.git.repoURL\": \"https://github.com/qubitron/azureml-irisexample\",\n",
      "    \"platform\": \"AML\",\n",
      "    \"primary_metric_config\": \"{\\\"name\\\": \\\"test-multi_logloss\\\", \\\"goal\\\": \\\"minimize\\\"}\",\n",
      "    \"resume_from\": \"null\",\n",
      "    \"runTemplate\": \"HyperDrive\",\n",
      "    \"user_agent\": \"managementfrontend/cedbeaa986592236335e2cd870f0ec295bc6a52b\"\n",
      "  },\n",
      "  \"resourceGroup\": \"machinelearning\",\n",
      "  \"sampling_algorithm\": \"random\",\n",
      "  \"search_space\": {\n",
      "    \"boosting\": {\n",
      "      \"type\": \"choice\",\n",
      "      \"values\": [\n",
      "        \"gbdt\",\n",
      "        \"dart\"\n",
      "      ]\n",
      "    },\n",
      "    \"learning_rate\": {\n",
      "      \"max_value\": 0.9,\n",
      "      \"min_value\": 0.01,\n",
      "      \"type\": \"uniform\"\n",
      "    }\n",
      "  },\n",
      "  \"services\": {\n",
      "    \"Studio\": {\n",
      "      \"endpoint\": \"https://ml.azure.com/runs/5dcacb53-8b68-4ace-900c-5527b9481348?wsid=/subscriptions/597966d1-829f-417e-9950-8189061ec09c/resourcegroups/machinelearning/workspaces/machinelearning&tid=72f988bf-86f1-41af-91ab-2d7cd011db47\",\n",
      "      \"job_service_type\": \"Studio\"\n",
      "    }\n",
      "  },\n",
      "  \"status\": \"Running\",\n",
      "  \"tags\": {\n",
      "    \"_aml_system_all_jobs_generated\": \"false\",\n",
      "    \"_aml_system_cancellation_requested\": \"false\",\n",
      "    \"_aml_system_generator_config\": \"{\\\"name\\\": \\\"RANDOM\\\", \\\"parameter_space\\\": {\\\"learning_rate\\\": [\\\"uniform\\\", [0.01, 0.9]], \\\"boosting\\\": [\\\"choice\\\", [[\\\"gbdt\\\", \\\"dart\\\"]]]}}\",\n",
      "    \"_aml_system_max_concurrent_jobs\": \"10\",\n",
      "    \"_aml_system_max_duration_minutes\": \"120\",\n",
      "    \"_aml_system_max_total_jobs\": \"20\",\n",
      "    \"_aml_system_platform_config\": \"{\\\"ServiceAddress\\\": \\\"https://westus.api.azureml.ms\\\", \\\"SubscriptionId\\\": \\\"597966d1-829f-417e-9950-8189061ec09c\\\", \\\"ResourceGroupName\\\": \\\"machinelearning\\\", \\\"WorkspaceName\\\": \\\"machinelearning\\\", \\\"ExperimentName\\\": \\\"lightgbm-iris-sweep-example\\\", \\\"Definition\\\": {\\\"Configuration\\\": null, \\\"Attribution\\\": null, \\\"TelemetryValues\\\": null, \\\"Overrides\\\": {\\\"Script\\\": null, \\\"Command\\\": \\\"python main.py  --iris-csv ${{inputs.iris_csv}} --learning-rate ${{search_space.learning_rate}} --boosting ${{search_space.boosting}}\\\", \\\"UseAbsolutePath\\\": true, \\\"Arguments\\\": [], \\\"SourceDirectoryDataStore\\\": null, \\\"Framework\\\": 0, \\\"Target\\\": \\\"dantaylo2\\\", \\\"DataReferences\\\": {}, \\\"Data\\\": {\\\"iris_csv\\\": {\\\"DataLocation\\\": {\\\"Dataset\\\": null, \\\"DataPath\\\": null, \\\"Uri\\\": {\\\"Path\\\": \\\"https://azuremlexamples.blob.core.windows.net/datasets/iris.csv\\\", \\\"IsFile\\\": true}}, \\\"Mechanism\\\": \\\"Mount\\\", \\\"EnvironmentVariableName\\\": \\\"AZURE_ML_INPUT_iris_csv\\\", \\\"PathOnCompute\\\": null, \\\"Overwrite\\\": false, \\\"Options\\\": {\\\"ReadWrite\\\": \\\"False\\\", \\\"ForceFolder\\\": \\\"False\\\"}}}, \\\"OutputData\\\": {}, \\\"Datacaches\\\": [], \\\"JobName\\\": null, \\\"MaxRunDurationSeconds\\\": null, \\\"NodeCount\\\": null, \\\"InstanceTypes\\\": [], \\\"Priority\\\": null, \\\"CredentialPassthrough\\\": false, \\\"Identity\\\": null, \\\"Environment\\\": {\\\"Name\\\": \\\"AzureML-lightgbm-3.2-ubuntu18.04-py37-cpu\\\", \\\"Version\\\": \\\"11\\\", \\\"Python\\\": {\\\"InterpreterPath\\\": \\\"python\\\", \\\"UserManagedDependencies\\\": true, \\\"CondaDependencies\\\": null, \\\"BaseCondaEnvironment\\\": null}, \\\"EnvironmentVariables\\\": {\\\"EXAMPLE_ENV_VAR\\\": \\\"EXAMPLE_VALUE\\\"}, \\\"Docker\\\": {\\\"BaseImage\\\": null, \\\"Platform\\\": {\\\"Os\\\": \\\"Linux\\\", \\\"Architecture\\\": \\\"amd64\\\"}, \\\"BaseDockerfile\\\": \\\"FROM mcr.microsoft.com/azureml/openmpi3.1.2-ubuntu18.04:20211005.v1\\\\n\\\\nENV AZUREML_CONDA_ENVIRONMENT_PATH /azureml-envs/lightgbm\\\\n\\\\n# Create conda environment\\\\nRUN conda create -p $AZUREML_CONDA_ENVIRONMENT_PATH \\\\\\\\\\\\n    python=3.7 pip=20.2.4\\\\n\\\\n# Prepend path to AzureML conda environment\\\\nENV PATH $AZUREML_CONDA_ENVIRONMENT_PATH/bin:$PATH\\\\n\\\\n# Install pip dependencies\\\\nRUN HOROVOD_WITH_TENSORFLOW=1 \\\\\\\\\\\\n    pip install 'matplotlib>=3.3,<3.4' \\\\\\\\\\\\n                'psutil>=5.8,<5.9' \\\\\\\\\\\\n                'tqdm>=4.59,<4.60' \\\\\\\\\\\\n                'pandas>=1.1,<1.2' \\\\\\\\\\\\n                'numpy>=1.10,<1.20' \\\\\\\\\\\\n                'scipy~=1.5.0' \\\\\\\\\\\\n                'scikit-learn~=0.24.1' \\\\\\\\\\\\n                'xgboost~=1.4.0' \\\\\\\\\\\\n                'lightgbm~=3.2.0' \\\\\\\\\\\\n                'dask~=2021.6.0' \\\\\\\\\\\\n                'distributed~=2021.6.0' \\\\\\\\\\\\n                'dask-ml~=1.9.0' \\\\\\\\\\\\n                'adlfs~=0.7.0' \\\\\\\\\\\\n                'ipykernel~=6.0' \\\\\\\\\\\\n                'azureml-core==1.34.0' \\\\\\\\\\\\n                'azureml-defaults==1.34.0' \\\\\\\\\\\\n                'azureml-mlflow==1.34.0' \\\\\\\\\\\\n                'azureml-telemetry==1.34.0'\\\\n\\\\n# This is needed for mpi to locate libpython\\\\nENV LD_LIBRARY_PATH $AZUREML_CONDA_ENVIRONMENT_PATH/lib:$LD_LIBRARY_PATH\\\", \\\"BaseImageRegistry\\\": {\\\"Address\\\": null, \\\"Username\\\": null, \\\"Password\\\": null}, \\\"Enabled\\\": false, \\\"Arguments\\\": []}, \\\"Spark\\\": {\\\"Repositories\\\": [], \\\"Packages\\\": [], \\\"PrecachePackages\\\": true}}, \\\"History\\\": {\\\"OutputCollection\\\": true, \\\"DirectoriesToWatch\\\": [\\\"logs\\\"], \\\"EnableMLflowTracking\\\": true}, \\\"Spark\\\": {\\\"Configuration\\\": {}}, \\\"ParallelTask\\\": {\\\"MaxRetriesPerWorker\\\": 0, \\\"WorkerCountPerNode\\\": 1, \\\"TerminalExitCodes\\\": null, \\\"Configuration\\\": {}}, \\\"BatchAi\\\": {\\\"NodeCount\\\": 0}, \\\"AmlCompute\\\": {\\\"Name\\\": null, \\\"VmSize\\\": null, \\\"RetainCluster\\\": false, \\\"ClusterMaxNodeCount\\\": null}, \\\"AISuperComputer\\\": {\\\"InstanceType\\\": \\\"D2\\\", \\\"FrameworkImage\\\": null, \\\"ImageVersion\\\": \\\"pytorch-1.7.0\\\", \\\"Location\\\": null, \\\"AISuperComputerStorageData\\\": null, \\\"Interactive\\\": false, \\\"ScalePolicy\\\": null, \\\"VirtualClusterArmId\\\": null, \\\"TensorboardLogDirectory\\\": null, \\\"SSHPublicKey\\\": null, \\\"SSHPublicKeys\\\": null, \\\"EnableAzmlInt\\\": true, \\\"Priority\\\": \\\"Medium\\\", \\\"SLATier\\\": \\\"Standard\\\", \\\"UserAlias\\\": null}, \\\"KubernetesCompute\\\": {\\\"InstanceType\\\": null}, \\\"Tensorflow\\\": {\\\"WorkerCount\\\": 0, \\\"ParameterServerCount\\\": 0}, \\\"Mpi\\\": {\\\"ProcessCountPerNode\\\": 0}, \\\"PyTorch\\\": {\\\"CommunicationBackend\\\": null, \\\"ProcessCount\\\": null}, \\\"Hdi\\\": {\\\"YarnDeployMode\\\": 0}, \\\"ContainerInstance\\\": {\\\"Region\\\": null, \\\"CpuCores\\\": 2.0, \\\"MemoryGb\\\": 3.5}, \\\"ExposedPorts\\\": null, \\\"Docker\\\": {\\\"UseDocker\\\": true, \\\"SharedVolumes\\\": null, \\\"ShmSize\\\": null, \\\"Arguments\\\": null}, \\\"Cmk8sCompute\\\": {\\\"Configuration\\\": {}}, \\\"CommandReturnCodeConfig\\\": {\\\"ReturnCode\\\": 0, \\\"SuccessfulReturnCodes\\\": []}, \\\"EnvironmentVariables\\\": {}, \\\"ApplicationEndpoints\\\": {}, \\\"Parameters\\\": []}, \\\"SnapshotId\\\": \\\"229b55e2-70a7-4320-b00e-240154ff1131\\\", \\\"Snapshots\\\": [], \\\"SourceCodeDataReference\\\": null, \\\"ParentRunId\\\": null, \\\"DataContainerId\\\": null, \\\"RunType\\\": null, \\\"DisplayName\\\": \\\"lightgbm-iris-sweep-example\\\", \\\"Properties\\\": {\\\"mlflow.source.git.repoURL\\\": \\\"https://github.com/qubitron/azureml-irisexample\\\", \\\"mlflow.source.git.branch\\\": \\\"main\\\", \\\"mlflow.source.git.commit\\\": \\\"d16d61222147b4732c8e3c8f5e5b135ce73df364\\\", \\\"azureml.git.dirty\\\": \\\"True\\\"}, \\\"Tags\\\": {}, \\\"AggregatedArtifactPath\\\": null}}\",\n",
      "    \"_aml_system_policy_config\": \"{\\\"name\\\": \\\"DEFAULT\\\", \\\"properties\\\": {}}\",\n",
      "    \"_aml_system_primary_metric_config\": \"{\\\"name\\\": \\\"test-multi_logloss\\\", \\\"goal\\\": \\\"minimize\\\"}\",\n",
      "    \"_aml_system_resume_child_runs\": \"null\"\n",
      "  },\n",
      "  \"trial\": {\n",
      "    \"code\": \"azureml:e1385c01-b6e9-49d6-9ad4-f57bbc17ae5e:1\",\n",
      "    \"command\": \"python main.py  --iris-csv ${{inputs.iris_csv}} --learning-rate ${{search_space.learning_rate}} --boosting ${{search_space.boosting}}\",\n",
      "    \"environment\": \"azureml:AzureML-lightgbm-3.2-ubuntu18.04-py37-cpu:11\",\n",
      "    \"environment_variables\": {},\n",
      "    \"resources\": {\n",
      "      \"properties\": {}\n",
      "    }\n",
      "  },\n",
      "  \"type\": \"sweep\"\n",
      "}\n",
      "\u001b[0m"
     ]
    }
   ],
   "source": [
    "# run a sweep job\n",
    "!az ml job create --file cli/job-sweep.yml"
   ]
  },
  {
   "cell_type": "code",
   "execution_count": 30,
   "metadata": {},
   "outputs": [
    {
     "name": "stdout",
     "output_type": "stream",
     "text": [
      "\u001b[93mParameter persistence is turned on. Its information is saved in working directory /home/qubitron/dev/azureml-irisexample. You can run `az config param-persist off` to turn it off.\u001b[0m\n",
      "\u001b[93mCommand argument values from persistent parameters: --resource-group: machinelearning, --workspace-name: machinelearning\u001b[0m\n",
      "\u001b[36mCommand group 'ml online-endpoint' is in preview and under development. Reference and support levels: https://aka.ms/CLI_refstatus\u001b[0m\n",
      "Creating or updating online_endpoints\n",
      "{\n",
      "  \"allow_public_access\": true,\n",
      "  \"auth_mode\": \"key\",\n",
      "  \"id\": \"/subscriptions/597966d1-829f-417e-9950-8189061ec09c/resourceGroups/machinelearning/providers/Microsoft.MachineLearningServices/workspaces/machinelearning/onlineEndpoints/iris-new-managed-endpoint\",\n",
      "  \"identity\": {\n",
      "    \"principal_id\": \"cb666ee5-7481-475d-8cac-6b897e486aa2\",\n",
      "    \"tenant_id\": \"72f988bf-86f1-41af-91ab-2d7cd011db47\",\n",
      "    \"type\": \"system_assigned\"\n",
      "  },\n",
      "  \"location\": \"westus\",\n",
      "  \"name\": \"iris-new-managed-endpoint\",\n",
      "  \"properties\": {\n",
      "    \"AzureAsyncOperationUri\": \"https://management.azure.com/subscriptions/597966d1-829f-417e-9950-8189061ec09c/providers/Microsoft.MachineLearningServices/locations/westus/mfeOperationsStatus/oe:a4e1f99a-556e-4ba6-9a44-f5d82f32fadc:65767e97-5525-4c07-afa4-dc80d5f4f4de?api-version=2021-10-01\",\n",
      "    \"azureml.onlineendpointid\": \"/subscriptions/597966d1-829f-417e-9950-8189061ec09c/resourcegroups/machinelearning/providers/microsoft.machinelearningservices/workspaces/machinelearning/onlineendpoints/iris-new-managed-endpoint\"\n",
      "  },\n",
      "  \"provisioning_state\": \"Succeeded\",\n",
      "  \"resourceGroup\": \"machinelearning\",\n",
      "  \"scoring_uri\": \"https://iris-new-managed-endpoint.westus.inference.ml.azure.com/\",\n",
      "  \"swagger_uri\": \"https://iris-new-managed-endpoint.westus.inference.ml.azure.com/swagger.json\",\n",
      "  \"tags\": {},\n",
      "  \"traffic\": {}\n",
      "}\n",
      "\u001b[0m"
     ]
    }
   ],
   "source": [
    "# create managed endpoint\n",
    "!az ml online-endpoint create --name iris-endpoint-cli --auth-mode key"
   ]
  },
  {
   "cell_type": "code",
   "execution_count": 6,
   "metadata": {},
   "outputs": [
    {
     "name": "stdout",
     "output_type": "stream",
     "text": [
      "\u001b[93mParameter persistence is turned on. Its information is saved in working directory /home/qubitron/dev/azureml-irisexample. You can run `az config param-persist off` to turn it off.\u001b[0m\n",
      "\u001b[93mCommand argument values from persistent parameters: --resource-group: machinelearning, --workspace-name: machinelearning\u001b[0m\n",
      "\u001b[36mCommand group 'ml online-deployment' is in preview and under development. Reference and support levels: https://aka.ms/CLI_refstatus\u001b[0m\n",
      "Creating or updating online_deployments\n",
      "Check: endpoint iris-endpoint-cli exists\n",
      "The deployment request machinelearning-iris-endpoint-cli-660578 was accepted. ARM deployment URI for reference: \n",
      "https://ms.portal.azure.com/#blade/HubsExtension/DeploymentDetailsBlade/overview/id/%2Fsubscriptions%2F597966d1-829f-417e-9950-8189061ec09c%2FresourceGroups%2Fmachinelearning%2Fproviders%2FMicrosoft.Resources%2Fdeployments%2Fmachinelearning-iris-endpoint-cli-660578\n",
      "Registering model version (sample-mlflow-lightgbm-model 1 )  Done (1s)\n",
      "Creating deployment blue   ...................................................................  Done (5m 55s)\n",
      "Total time : 5m 58s\n",
      "{\n",
      "  \"app_insights_enabled\": false,\n",
      "  \"endpoint_name\": \"iris-endpoint-cli\",\n",
      "  \"environment_variables\": {},\n",
      "  \"instance_count\": 1,\n",
      "  \"instance_type\": \"Standard_F2s_v2\",\n",
      "  \"model\": {\n",
      "    \"flavors\": {},\n",
      "    \"id\": \"azureml:/subscriptions/597966d1-829f-417e-9950-8189061ec09c/resourceGroups/machinelearning/providers/Microsoft.MachineLearningServices/workspaces/machinelearning/models/sample-mlflow-lightgbm-model/versions/1\",\n",
      "    \"local_path\": \"/home/qubitron/dev/azureml-irisexample/model\",\n",
      "    \"model_format\": \"mlflow\",\n",
      "    \"model_uri\": \"azureml://subscriptions/597966d1-829f-417e-9950-8189061ec09c/resourceGroups/machinelearning/workspaces/machinelearning/datastores/workspaceblobstore/paths/LocalUpload/aac18be1025657595abb922564841d0e/model\",\n",
      "    \"name\": \"sample-mlflow-lightgbm-model\",\n",
      "    \"properties\": {},\n",
      "    \"resourceGroup\": \"machinelearning\",\n",
      "    \"tags\": {},\n",
      "    \"version\": \"1\"\n",
      "  },\n",
      "  \"name\": \"blue\",\n",
      "  \"properties\": {},\n",
      "  \"tags\": {},\n",
      "  \"type\": \"managed\"\n",
      "}\n",
      "\u001b[0m"
     ]
    }
   ],
   "source": [
    "# deploy model to managed endpoint\n",
    "!az ml online-deployment create --name blue --file cli/deployment.yml"
   ]
  },
  {
   "cell_type": "code",
   "execution_count": 7,
   "metadata": {},
   "outputs": [
    {
     "name": "stdout",
     "output_type": "stream",
     "text": [
      "\u001b[93mParameter persistence is turned on. Its information is saved in working directory /home/qubitron/dev/azureml-irisexample. You can run `az config param-persist off` to turn it off.\u001b[0m\n",
      "\u001b[93mCommand argument values from persistent parameters: --resource-group: machinelearning, --workspace-name: machinelearning\u001b[0m\n",
      "\u001b[36mCommand group 'ml online-endpoint' is in preview and under development. Reference and support levels: https://aka.ms/CLI_refstatus\u001b[0m\n",
      "\"[[0.6537724440218525, 0.17880280139283433, 0.16742475458531322], [0.047420494345148216, 0.06112452452109818, 0.8914549811337537]]\"\n",
      "\u001b[0m"
     ]
    }
   ],
   "source": [
    "!az ml online-endpoint invoke --name iris-endpoint-cli --deployment green --request-file cli/iris-sample-request.json"
   ]
  }
 ],
 "metadata": {
  "interpreter": {
   "hash": "71464082f9d82cd7e89243f6b72853c8ff04ca87120e1efa1074c714283940c0"
  },
  "kernelspec": {
   "display_name": "Python 3.7.11 64-bit ('machinelearning-env': conda)",
   "language": "python",
   "name": "python3"
  },
  "language_info": {
   "codemirror_mode": {
    "name": "ipython",
    "version": 3
   },
   "file_extension": ".py",
   "mimetype": "text/x-python",
   "name": "python",
   "nbconvert_exporter": "python",
   "pygments_lexer": "ipython3",
   "version": "3.7.11"
  },
  "orig_nbformat": 4
 },
 "nbformat": 4,
 "nbformat_minor": 2
}
